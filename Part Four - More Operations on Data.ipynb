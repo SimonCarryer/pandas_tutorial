{
 "cells": [
  {
   "cell_type": "code",
   "execution_count": 1,
   "metadata": {},
   "outputs": [],
   "source": [
    "import pandas as pd"
   ]
  },
  {
   "cell_type": "code",
   "execution_count": 2,
   "metadata": {},
   "outputs": [],
   "source": [
    "list_of_dataframes = []\n",
    "\n",
    "for year in [2007, 2008, 2009]:\n",
    "    url = f'https://raw.githubusercontent.com/SimonCarryer/pandas_tutorial/master/data/pa_{year}_irs.csv'\n",
    "    temp = pd.read_csv(url, thousands=',', index_col=0, names=['n_returns', 'income'], skiprows=2)\n",
    "    temp['year'] = year\n",
    "    list_of_dataframes.append(temp)\n",
    "income = pd.concat(list_of_dataframes)"
   ]
  },
  {
   "cell_type": "markdown",
   "metadata": {},
   "source": [
    "## Operations on Data\n",
    "\n",
    "As we've seen before, Pandas always applies operations on `Series` objects to the whole Series. A trivial example of this is adding a number to a `Series`."
   ]
  },
  {
   "cell_type": "code",
   "execution_count": 3,
   "metadata": {},
   "outputs": [
    {
     "data": {
      "text/plain": [
       "15001    2107\n",
       "15003    2107\n",
       "15004    2107\n",
       "15005    2107\n",
       "15006    2107\n",
       "Name: year, dtype: int64"
      ]
     },
     "execution_count": 3,
     "metadata": {},
     "output_type": "execute_result"
    }
   ],
   "source": [
    "(income['year'] + 100).head()"
   ]
  },
  {
   "cell_type": "markdown",
   "metadata": {},
   "source": [
    "Many operators work on `Series` objects, such as `+`, `-`, `*`, and `/`. Logical operators (`|` and `&`) also work on Series containing boolean values. You can also apply the same operators to a whole `DataFrame`."
   ]
  },
  {
   "cell_type": "code",
   "execution_count": 4,
   "metadata": {},
   "outputs": [
    {
     "data": {
      "text/html": [
       "<div>\n",
       "<style scoped>\n",
       "    .dataframe tbody tr th:only-of-type {\n",
       "        vertical-align: middle;\n",
       "    }\n",
       "\n",
       "    .dataframe tbody tr th {\n",
       "        vertical-align: top;\n",
       "    }\n",
       "\n",
       "    .dataframe thead th {\n",
       "        text-align: right;\n",
       "    }\n",
       "</style>\n",
       "<table border=\"1\" class=\"dataframe\">\n",
       "  <thead>\n",
       "    <tr style=\"text-align: right;\">\n",
       "      <th></th>\n",
       "      <th>n_returns</th>\n",
       "      <th>income</th>\n",
       "      <th>year</th>\n",
       "    </tr>\n",
       "  </thead>\n",
       "  <tbody>\n",
       "    <tr>\n",
       "      <th>15001</th>\n",
       "      <td>183.06</td>\n",
       "      <td>7328.75</td>\n",
       "      <td>20.07</td>\n",
       "    </tr>\n",
       "    <tr>\n",
       "      <th>15003</th>\n",
       "      <td>66.39</td>\n",
       "      <td>2058.84</td>\n",
       "      <td>20.07</td>\n",
       "    </tr>\n",
       "    <tr>\n",
       "      <th>15004</th>\n",
       "      <td>1.96</td>\n",
       "      <td>67.35</td>\n",
       "      <td>20.07</td>\n",
       "    </tr>\n",
       "    <tr>\n",
       "      <th>15005</th>\n",
       "      <td>55.46</td>\n",
       "      <td>2998.94</td>\n",
       "      <td>20.07</td>\n",
       "    </tr>\n",
       "    <tr>\n",
       "      <th>15006</th>\n",
       "      <td>2.27</td>\n",
       "      <td>80.72</td>\n",
       "      <td>20.07</td>\n",
       "    </tr>\n",
       "  </tbody>\n",
       "</table>\n",
       "</div>"
      ],
      "text/plain": [
       "       n_returns   income   year\n",
       "15001     183.06  7328.75  20.07\n",
       "15003      66.39  2058.84  20.07\n",
       "15004       1.96    67.35  20.07\n",
       "15005      55.46  2998.94  20.07\n",
       "15006       2.27    80.72  20.07"
      ]
     },
     "execution_count": 4,
     "metadata": {},
     "output_type": "execute_result"
    }
   ],
   "source": [
    "(income / 100).head()"
   ]
  },
  {
   "cell_type": "markdown",
   "metadata": {},
   "source": [
    "There's another way of operating on data in Pandas, which we've already seen. Instead of adding or subracting (or whatever) a single number, can use another `Series`."
   ]
  },
  {
   "cell_type": "code",
   "execution_count": 5,
   "metadata": {},
   "outputs": [
    {
     "data": {
      "text/plain": [
       "15001    40.034688\n",
       "15003    31.011297\n",
       "15004    34.362245\n",
       "15005    54.073927\n",
       "15006    35.559471\n",
       "dtype: float64"
      ]
     },
     "execution_count": 5,
     "metadata": {},
     "output_type": "execute_result"
    }
   ],
   "source": [
    "(income['income'] / income['n_returns']).head()"
   ]
  },
  {
   "cell_type": "markdown",
   "metadata": {},
   "source": [
    "What happens in these cases is an _implicit join_, along the index of the `Series`. In other words, it lines up pairs of values according to their index, and then performs the operation on every pair of values. As with everything else in Pandas, you can do this any time indexes align. Let's add a random number to every year in our `income` DataFrame."
   ]
  },
  {
   "cell_type": "code",
   "execution_count": 6,
   "metadata": {},
   "outputs": [
    {
     "data": {
      "text/plain": [
       "15001    2054\n",
       "15003    2045\n",
       "15004    2079\n",
       "15005    2078\n",
       "15006    2102\n",
       "dtype: int64"
      ]
     },
     "execution_count": 6,
     "metadata": {},
     "output_type": "execute_result"
    }
   ],
   "source": [
    "randoms = pd.Series(pd.np.random.randint(0, 100, size=len(income)), index=income.index)\n",
    "(income['year'] + randoms).head()"
   ]
  },
  {
   "cell_type": "markdown",
   "metadata": {},
   "source": [
    "It's worth noting that these operations are employing a little bit of shorthand. \"Under the hood\", using operators like this is calling equivalent methods on the object. The `+` operator is, behind the scenes, making a call to `Series.add()`, for example. In some cases, it will be useful to explicitly call the method yourself, as those methods can take additional arguments."
   ]
  },
  {
   "cell_type": "code",
   "execution_count": 7,
   "metadata": {},
   "outputs": [
    {
     "data": {
      "text/plain": [
       "15001    40.034688\n",
       "15003    31.011297\n",
       "15004    34.362245\n",
       "15005    54.073927\n",
       "15006    35.559471\n",
       "dtype: float64"
      ]
     },
     "execution_count": 7,
     "metadata": {},
     "output_type": "execute_result"
    }
   ],
   "source": [
    "income['income'].divide(income['n_returns']).head()"
   ]
  },
  {
   "cell_type": "markdown",
   "metadata": {},
   "source": [
    "The above is exactly the same as using the `/` operator."
   ]
  },
  {
   "cell_type": "code",
   "execution_count": 8,
   "metadata": {},
   "outputs": [
    {
     "data": {
      "text/plain": [
       "15001    40.034688\n",
       "15003    31.011297\n",
       "15004    34.362245\n",
       "15005    54.073927\n",
       "15006    35.559471\n",
       "dtype: float64"
      ]
     },
     "execution_count": 8,
     "metadata": {},
     "output_type": "execute_result"
    }
   ],
   "source": [
    "(income['income'] / income['n_returns']).head()"
   ]
  },
  {
   "cell_type": "markdown",
   "metadata": {},
   "source": [
    "My advice is - for the sake of brevity and clarity - use the operators wherever possible rather than the explicit methods. "
   ]
  },
  {
   "cell_type": "markdown",
   "metadata": {},
   "source": [
    "#### A NOTE ON BRACKETS\n",
    "\n",
    "When you perform an operation on a `Series`, it returns a new `Series` object (it doesn't change the data in the original `Series`. That means that you can chain operations together - like adding two `Series` together and then dividing by two. The tricky part is ensuring that your subsequent operations are performed on the result of the first operation, not on just one of the `Series`. Brackets let you specify the order of operations. Consider the difference between the following two operations:"
   ]
  },
  {
   "cell_type": "code",
   "execution_count": 9,
   "metadata": {},
   "outputs": [
    {
     "data": {
      "text/plain": [
       "15001     80.069376\n",
       "15003     62.022594\n",
       "15004     68.724490\n",
       "15005    108.147854\n",
       "15006     71.118943\n",
       "dtype: float64"
      ]
     },
     "execution_count": 9,
     "metadata": {},
     "output_type": "execute_result"
    }
   ],
   "source": [
    "(income['income']/income['n_returns']*2).head()"
   ]
  },
  {
   "cell_type": "code",
   "execution_count": 10,
   "metadata": {},
   "outputs": [
    {
     "data": {
      "text/plain": [
       "15001    20.017344\n",
       "15003    15.505648\n",
       "15004    17.181122\n",
       "15005    27.036964\n",
       "15006    17.779736\n",
       "dtype: float64"
      ]
     },
     "execution_count": 10,
     "metadata": {},
     "output_type": "execute_result"
    }
   ],
   "source": [
    "(income['income']/(income['n_returns']*2)).head()"
   ]
  },
  {
   "cell_type": "markdown",
   "metadata": {},
   "source": [
    "You'll note that we've already been using brackets to specify the order of operations every time we use the `head` method in the previous examples."
   ]
  },
  {
   "cell_type": "markdown",
   "metadata": {},
   "source": [
    "This chaining together of operations does let you perform quite complex operations very concisely. Here, for example, we're making a `DataFrame` that's got the average income for each year in a seperate column."
   ]
  },
  {
   "cell_type": "code",
   "execution_count": 11,
   "metadata": {},
   "outputs": [
    {
     "data": {
      "text/html": [
       "<div>\n",
       "<style scoped>\n",
       "    .dataframe tbody tr th:only-of-type {\n",
       "        vertical-align: middle;\n",
       "    }\n",
       "\n",
       "    .dataframe tbody tr th {\n",
       "        vertical-align: top;\n",
       "    }\n",
       "\n",
       "    .dataframe thead th {\n",
       "        text-align: right;\n",
       "    }\n",
       "</style>\n",
       "<table border=\"1\" class=\"dataframe\">\n",
       "  <thead>\n",
       "    <tr style=\"text-align: right;\">\n",
       "      <th>year</th>\n",
       "      <th>2007</th>\n",
       "      <th>2008</th>\n",
       "      <th>2009</th>\n",
       "    </tr>\n",
       "  </thead>\n",
       "  <tbody>\n",
       "    <tr>\n",
       "      <th>15001</th>\n",
       "      <td>40.034688</td>\n",
       "      <td>44.862339</td>\n",
       "      <td>NaN</td>\n",
       "    </tr>\n",
       "    <tr>\n",
       "      <th>15003</th>\n",
       "      <td>31.011297</td>\n",
       "      <td>35.516510</td>\n",
       "      <td>35.732487</td>\n",
       "    </tr>\n",
       "    <tr>\n",
       "      <th>15004</th>\n",
       "      <td>34.362245</td>\n",
       "      <td>NaN</td>\n",
       "      <td>NaN</td>\n",
       "    </tr>\n",
       "    <tr>\n",
       "      <th>15005</th>\n",
       "      <td>54.073927</td>\n",
       "      <td>57.256456</td>\n",
       "      <td>57.972025</td>\n",
       "    </tr>\n",
       "    <tr>\n",
       "      <th>15006</th>\n",
       "      <td>35.559471</td>\n",
       "      <td>NaN</td>\n",
       "      <td>NaN</td>\n",
       "    </tr>\n",
       "  </tbody>\n",
       "</table>\n",
       "</div>"
      ],
      "text/plain": [
       "year        2007       2008       2009\n",
       "15001  40.034688  44.862339        NaN\n",
       "15003  31.011297  35.516510  35.732487\n",
       "15004  34.362245        NaN        NaN\n",
       "15005  54.073927  57.256456  57.972025\n",
       "15006  35.559471        NaN        NaN"
      ]
     },
     "execution_count": 11,
     "metadata": {},
     "output_type": "execute_result"
    }
   ],
   "source": [
    "(income['income']/income['n_returns']).groupby([income.index, income['year']]).sum().unstack().head()"
   ]
  },
  {
   "cell_type": "markdown",
   "metadata": {},
   "source": [
    "But! Anyone else reading the above line (including you when you come back to it a few weeks from now) will struggle to understand what it's doing. It's also hard to check the results of the intervening steps to make sure it's working as expected. I'd suggest stepping out the operation a little more explicitly."
   ]
  },
  {
   "cell_type": "code",
   "execution_count": 12,
   "metadata": {},
   "outputs": [
    {
     "data": {
      "text/html": [
       "<div>\n",
       "<style scoped>\n",
       "    .dataframe tbody tr th:only-of-type {\n",
       "        vertical-align: middle;\n",
       "    }\n",
       "\n",
       "    .dataframe tbody tr th {\n",
       "        vertical-align: top;\n",
       "    }\n",
       "\n",
       "    .dataframe thead th {\n",
       "        text-align: right;\n",
       "    }\n",
       "</style>\n",
       "<table border=\"1\" class=\"dataframe\">\n",
       "  <thead>\n",
       "    <tr style=\"text-align: right;\">\n",
       "      <th>year</th>\n",
       "      <th>2007</th>\n",
       "      <th>2008</th>\n",
       "      <th>2009</th>\n",
       "    </tr>\n",
       "  </thead>\n",
       "  <tbody>\n",
       "    <tr>\n",
       "      <th>15001</th>\n",
       "      <td>40.034688</td>\n",
       "      <td>44.862339</td>\n",
       "      <td>NaN</td>\n",
       "    </tr>\n",
       "    <tr>\n",
       "      <th>15003</th>\n",
       "      <td>31.011297</td>\n",
       "      <td>35.516510</td>\n",
       "      <td>35.732487</td>\n",
       "    </tr>\n",
       "    <tr>\n",
       "      <th>15004</th>\n",
       "      <td>34.362245</td>\n",
       "      <td>NaN</td>\n",
       "      <td>NaN</td>\n",
       "    </tr>\n",
       "    <tr>\n",
       "      <th>15005</th>\n",
       "      <td>54.073927</td>\n",
       "      <td>57.256456</td>\n",
       "      <td>57.972025</td>\n",
       "    </tr>\n",
       "    <tr>\n",
       "      <th>15006</th>\n",
       "      <td>35.559471</td>\n",
       "      <td>NaN</td>\n",
       "      <td>NaN</td>\n",
       "    </tr>\n",
       "  </tbody>\n",
       "</table>\n",
       "</div>"
      ],
      "text/plain": [
       "year        2007       2008       2009\n",
       "15001  40.034688  44.862339        NaN\n",
       "15003  31.011297  35.516510  35.732487\n",
       "15004  34.362245        NaN        NaN\n",
       "15005  54.073927  57.256456  57.972025\n",
       "15006  35.559471        NaN        NaN"
      ]
     },
     "execution_count": 12,
     "metadata": {},
     "output_type": "execute_result"
    }
   ],
   "source": [
    "income['average_income'] = income['income']/income['n_returns']\n",
    "grouped_by_zip = income.groupby([income.index, 'year'])['average_income'].sum()\n",
    "yearly_income = grouped_by_zip.unstack()\n",
    "yearly_income.head()"
   ]
  },
  {
   "cell_type": "markdown",
   "metadata": {},
   "source": [
    "### Problems\n",
    "\n",
    "- The income column is in \"thousands of dollars\". Convert it to just \"dollars\".\n",
    "- What zip codes had the greatest year-on-year growth in income between 2008 and 2009?"
   ]
  },
  {
   "cell_type": "code",
   "execution_count": null,
   "metadata": {},
   "outputs": [],
   "source": []
  },
  {
   "cell_type": "markdown",
   "metadata": {},
   "source": [
    "## Putting data in bins (where it belongs, frankly)\n",
    "\n",
    "A common thing you'll want to do (especially for charting, which we'll cover later) is \"bin\" data, i.e. group it according to some numerical thresholds. Pandas provides a bunch of very handy functions for doing this, but the way they work is a bit confusing. First, lets look at the `cut` function."
   ]
  },
  {
   "cell_type": "code",
   "execution_count": 13,
   "metadata": {},
   "outputs": [
    {
     "data": {
      "text/plain": [
       "15001    (-0.356, 53.609]\n",
       "15003    (-0.356, 53.609]\n",
       "15004    (-0.356, 53.609]\n",
       "15005    (53.609, 107.04]\n",
       "15006    (-0.356, 53.609]\n",
       "15007    (-0.356, 53.609]\n",
       "15009    (-0.356, 53.609]\n",
       "15010    (-0.356, 53.609]\n",
       "15012    (-0.356, 53.609]\n",
       "15014    (-0.356, 53.609]\n",
       "Name: average_income, dtype: category\n",
       "Categories (10, interval[float64]): [(-0.356, 53.609] < (53.609, 107.04] < (107.04, 160.471] < (160.471, 213.902] ... (320.764, 374.195] < (374.195, 427.626] < (427.626, 481.057] < (481.057, 534.488]]"
      ]
     },
     "execution_count": 13,
     "metadata": {},
     "output_type": "execute_result"
    }
   ],
   "source": [
    "pd.cut(income['average_income'], bins=10).head(10)"
   ]
  },
  {
   "cell_type": "markdown",
   "metadata": {},
   "source": [
    "What's going on here? The `cut` function takes a `Series` and a number of bins, and returns a `Series` containing `Categories` objects. It's most useful when you combine that with our old friend `value_counts`:"
   ]
  },
  {
   "cell_type": "code",
   "execution_count": 14,
   "metadata": {},
   "outputs": [
    {
     "data": {
      "text/plain": [
       "(-0.356, 53.609]      3859\n",
       "(53.609, 107.04]       750\n",
       "(107.04, 160.471]      114\n",
       "(160.471, 213.902]      32\n",
       "(213.902, 267.333]       8\n",
       "(267.333, 320.764]       5\n",
       "(320.764, 374.195]       4\n",
       "(481.057, 534.488]       3\n",
       "(374.195, 427.626]       3\n",
       "(427.626, 481.057]       1\n",
       "Name: average_income, dtype: int64"
      ]
     },
     "execution_count": 14,
     "metadata": {},
     "output_type": "execute_result"
    }
   ],
   "source": [
    "pd.cut(income['average_income'], bins=10).value_counts()"
   ]
  },
  {
   "cell_type": "markdown",
   "metadata": {},
   "source": [
    "By default, `cut` makes bins of equal sizes, in terms of the values being \"cut\" - in other words, each bin covers the same range of income values. If you want bins which contain equal numbers of _rows_ instead, there's another function for that, `qcut` - short for \"quantile cut\"."
   ]
  },
  {
   "cell_type": "code",
   "execution_count": 15,
   "metadata": {},
   "outputs": [
    {
     "data": {
      "text/plain": [
       "(66.477, 534.488]    478\n",
       "(52.872, 66.477]     478\n",
       "(47.505, 52.872]     478\n",
       "(43.872, 47.505]     478\n",
       "(38.137, 40.898]     478\n",
       "(35.643, 38.137]     478\n",
       "(32.799, 35.643]     478\n",
       "(28.861, 32.799]     478\n",
       "(0.177, 28.861]      478\n",
       "(40.898, 43.872]     477\n",
       "Name: average_income, dtype: int64"
      ]
     },
     "execution_count": 15,
     "metadata": {},
     "output_type": "execute_result"
    }
   ],
   "source": [
    "pd.qcut(income['average_income'], q=10).value_counts() #note that the argument is \"q\", not \"bins\"."
   ]
  },
  {
   "cell_type": "markdown",
   "metadata": {},
   "source": [
    "Because `cut` and `qcut` return a `Series`, and that `Series` has an index which aligns with the \"income\" `DataFrame`, we can use them to group the `DataFrame`. This is particularly useful with `qcut`."
   ]
  },
  {
   "cell_type": "code",
   "execution_count": 16,
   "metadata": {},
   "outputs": [
    {
     "data": {
      "text/plain": [
       "average_income\n",
       "(0.177, 36.458]      30.441317\n",
       "(36.458, 46.126]     41.013184\n",
       "(46.126, 534.488]    70.591524\n",
       "Name: average_income, dtype: float64"
      ]
     },
     "execution_count": 16,
     "metadata": {},
     "output_type": "execute_result"
    }
   ],
   "source": [
    "income.groupby(pd.qcut(income['average_income'], q=3))['average_income'].mean()"
   ]
  },
  {
   "cell_type": "markdown",
   "metadata": {},
   "source": [
    "There are a few other handy things you can do with binning data. You can supply your own bins - but be aware that if a row falls outside of your supplied bins, it will recieve a `NaN` category, which will be excluded from any grouping."
   ]
  },
  {
   "cell_type": "code",
   "execution_count": 17,
   "metadata": {},
   "outputs": [
    {
     "data": {
      "text/plain": [
       "(0, 50]        3584\n",
       "(50, 100]      1013\n",
       "(100, 200]      153\n",
       "(200, 2000]      29\n",
       "Name: average_income, dtype: int64"
      ]
     },
     "execution_count": 17,
     "metadata": {},
     "output_type": "execute_result"
    }
   ],
   "source": [
    "manual_bins = [0, 50, 100, 200, 2000]\n",
    "pd.cut(income['average_income'], bins=manual_bins).value_counts()"
   ]
  },
  {
   "cell_type": "markdown",
   "metadata": {},
   "source": [
    "You can also supply your own labels, which can make things much more readable."
   ]
  },
  {
   "cell_type": "code",
   "execution_count": 18,
   "metadata": {},
   "outputs": [
    {
     "data": {
      "text/plain": [
       "average_income\n",
       "low       30.441317\n",
       "medium    41.013184\n",
       "high      70.591524\n",
       "Name: average_income, dtype: float64"
      ]
     },
     "execution_count": 18,
     "metadata": {},
     "output_type": "execute_result"
    }
   ],
   "source": [
    "manual_labels = ['low', 'medium', 'high']\n",
    "income.groupby(pd.qcut(income['average_income'], q=3, labels=manual_labels))['average_income'].mean()"
   ]
  },
  {
   "cell_type": "markdown",
   "metadata": {},
   "source": [
    "### Problems\n",
    "\n",
    "- Group the income data into 10 equal-sized bins, based on the number of returns filed.\n",
    "- How many returns were filed in zip codes within the lowest 25% of average income?"
   ]
  },
  {
   "cell_type": "code",
   "execution_count": null,
   "metadata": {},
   "outputs": [],
   "source": []
  },
  {
   "cell_type": "markdown",
   "metadata": {},
   "source": [
    "## Applying custom functions\n",
    "\n",
    "You can achieve a heck of a lot by chaining together various operations on `Series` objects. In general, it's better to use these functions where you can. They're heavily optimised, so you're likely to get much better performance. However, every so often you come across a case where what you need to do isn't supported by any simple operation, and then you might need to employ the `apply` method.\n",
    "\n",
    "`apply`, simply, takes a function you specify, and executes it for every item in your `Series` or `DataFrame`. To demonstrate this, we're going to go back to our Dog Registrations dataset."
   ]
  },
  {
   "cell_type": "code",
   "execution_count": 19,
   "metadata": {},
   "outputs": [],
   "source": [
    "dogs = pd.read_csv('https://raw.githubusercontent.com/SimonCarryer/pandas_tutorial/master/data/dog_registrations.csv')"
   ]
  },
  {
   "cell_type": "code",
   "execution_count": 20,
   "metadata": {},
   "outputs": [
    {
     "data": {
      "text/html": [
       "<div>\n",
       "<style scoped>\n",
       "    .dataframe tbody tr th:only-of-type {\n",
       "        vertical-align: middle;\n",
       "    }\n",
       "\n",
       "    .dataframe tbody tr th {\n",
       "        vertical-align: top;\n",
       "    }\n",
       "\n",
       "    .dataframe thead th {\n",
       "        text-align: right;\n",
       "    }\n",
       "</style>\n",
       "<table border=\"1\" class=\"dataframe\">\n",
       "  <thead>\n",
       "    <tr style=\"text-align: right;\">\n",
       "      <th></th>\n",
       "      <th>LicenseType</th>\n",
       "      <th>Breed</th>\n",
       "      <th>Color</th>\n",
       "      <th>DogName</th>\n",
       "      <th>OwnerZip</th>\n",
       "      <th>ExpYear</th>\n",
       "      <th>ValidDate</th>\n",
       "    </tr>\n",
       "  </thead>\n",
       "  <tbody>\n",
       "    <tr>\n",
       "      <th>0</th>\n",
       "      <td>Dog Individual Female</td>\n",
       "      <td>AM PIT BULL TERRIER</td>\n",
       "      <td>SPOTTED</td>\n",
       "      <td>BUTTER</td>\n",
       "      <td>15001</td>\n",
       "      <td>2007</td>\n",
       "      <td>5/1/2007 15:15</td>\n",
       "    </tr>\n",
       "    <tr>\n",
       "      <th>1</th>\n",
       "      <td>Dog Individual Female</td>\n",
       "      <td>AM PIT BULL TERRIER</td>\n",
       "      <td>BROWN</td>\n",
       "      <td>SABLE</td>\n",
       "      <td>15001</td>\n",
       "      <td>2007</td>\n",
       "      <td>5/1/2007 15:15</td>\n",
       "    </tr>\n",
       "    <tr>\n",
       "      <th>2</th>\n",
       "      <td>Dog Individual Neutered Male</td>\n",
       "      <td>MIXED</td>\n",
       "      <td>.</td>\n",
       "      <td>YIP</td>\n",
       "      <td>15001</td>\n",
       "      <td>2007</td>\n",
       "      <td>4/11/2007 15:14</td>\n",
       "    </tr>\n",
       "    <tr>\n",
       "      <th>3</th>\n",
       "      <td>Dog Individual Male</td>\n",
       "      <td>DOBERMAN PINSCHER</td>\n",
       "      <td>RED</td>\n",
       "      <td>SABER</td>\n",
       "      <td>15003</td>\n",
       "      <td>2007</td>\n",
       "      <td>4/5/2007 15:00</td>\n",
       "    </tr>\n",
       "    <tr>\n",
       "      <th>4</th>\n",
       "      <td>Dog Individual Spayed Female</td>\n",
       "      <td>MIXED</td>\n",
       "      <td>BLACK</td>\n",
       "      <td>DAISY</td>\n",
       "      <td>15003</td>\n",
       "      <td>2007</td>\n",
       "      <td>5/25/2007 12:15</td>\n",
       "    </tr>\n",
       "  </tbody>\n",
       "</table>\n",
       "</div>"
      ],
      "text/plain": [
       "                    LicenseType                Breed    Color DogName  \\\n",
       "0         Dog Individual Female  AM PIT BULL TERRIER  SPOTTED  BUTTER   \n",
       "1         Dog Individual Female  AM PIT BULL TERRIER    BROWN   SABLE   \n",
       "2  Dog Individual Neutered Male                MIXED        .     YIP   \n",
       "3           Dog Individual Male    DOBERMAN PINSCHER      RED   SABER   \n",
       "4  Dog Individual Spayed Female                MIXED    BLACK   DAISY   \n",
       "\n",
       "   OwnerZip  ExpYear        ValidDate  \n",
       "0     15001     2007   5/1/2007 15:15  \n",
       "1     15001     2007   5/1/2007 15:15  \n",
       "2     15001     2007  4/11/2007 15:14  \n",
       "3     15003     2007   4/5/2007 15:00  \n",
       "4     15003     2007  5/25/2007 12:15  "
      ]
     },
     "execution_count": 20,
     "metadata": {},
     "output_type": "execute_result"
    }
   ],
   "source": [
    "dogs.head()"
   ]
  },
  {
   "cell_type": "code",
   "execution_count": 21,
   "metadata": {},
   "outputs": [
    {
     "data": {
      "text/plain": [
       "0    Female\n",
       "1    Female\n",
       "2      Male\n",
       "3      Male\n",
       "4    Female\n",
       "Name: LicenseType, dtype: object"
      ]
     },
     "execution_count": 21,
     "metadata": {},
     "output_type": "execute_result"
    }
   ],
   "source": [
    "def sex(licensetype):\n",
    "    return 'Male' if 'Male' in licensetype else 'Female'\n",
    "\n",
    "dogs['LicenseType'].apply(sex).head()"
   ]
  },
  {
   "cell_type": "markdown",
   "metadata": {},
   "source": [
    "`apply` can also work row-wise on a DataFrame. These operations can get very slow, so think carefully about whether you can achieve the same result by operating over some `Series` objects instead."
   ]
  },
  {
   "cell_type": "code",
   "execution_count": 22,
   "metadata": {},
   "outputs": [
    {
     "data": {
      "text/plain": [
       "0     A spotted female Am Pit Bull Terrier called Bu...\n",
       "1       A brown female Am Pit Bull Terrier called Sable\n",
       "2                              A . male mutt called Yip\n",
       "3             A red male Doberman Pinscher called Saber\n",
       "4                      A black female mutt called Daisy\n",
       "5                    A spotted male mutt called Scooter\n",
       "6               A multi female Rat Terrier called Tinky\n",
       "7        A black/brown female Ger Shepherd called Amica\n",
       "8                  A tan female Pomeranian called Taffy\n",
       "9                  A spotted female Beagle called Belle\n",
       "10                 A spotted female Beagle called Belle\n",
       "11            A white female Am Eskimo Dog called Sasha\n",
       "12         A black/brown male Collie Mix called Grizzly\n",
       "13      A black/brown male Ger Shepherd called Hercules\n",
       "14          A white/black male Sib Husky called Daytona\n",
       "15                    A brown female Boxer called Chloe\n",
       "16                   A white/brown male mutt called Max\n",
       "17        A white/black female Aus Shepherd called Maia\n",
       "18     A white/beige female Chihuahua Mix called Buddie\n",
       "19                   A white male Boxer Mix called Troy\n",
       "dtype: object"
      ]
     },
     "execution_count": 22,
     "metadata": {},
     "output_type": "execute_result"
    }
   ],
   "source": [
    "def dog_description(row):\n",
    "    if row['Color'][0] in 'AEIOU':\n",
    "        article = 'An'\n",
    "    else:\n",
    "        article = 'A'\n",
    "    if row['Breed'] == 'MIXED':\n",
    "        breed = 'mutt'\n",
    "    else:\n",
    "        breed = row['Breed'].title()\n",
    "    if 'Male' in row['LicenseType']:\n",
    "        sex = 'male' \n",
    "    else:\n",
    "        sex = 'female'\n",
    "    name = row['DogName'].title()\n",
    "    return f\"{article} {row['Color'].lower()} {sex} {breed} called {name}\"\n",
    "\n",
    "dogs.iloc[0:20].apply(dog_description, axis=1)"
   ]
  },
  {
   "cell_type": "markdown",
   "metadata": {},
   "source": [
    "### Problems\n",
    "\n",
    "* Trim the word \"Dog\" from the start of the `licensetype` column.\n",
    "* Use the `apply` function to double the value of `average_income` in the `income` DataFrame, but only if the `year` is 2007.\n",
    "* EXTRA FOR EXPERTS: Do the above problem again, but this time without using the `apply` function."
   ]
  },
  {
   "cell_type": "code",
   "execution_count": null,
   "metadata": {},
   "outputs": [],
   "source": []
  }
 ],
 "metadata": {
  "kernelspec": {
   "display_name": "Python 3",
   "language": "python",
   "name": "python3"
  },
  "language_info": {
   "codemirror_mode": {
    "name": "ipython",
    "version": 3
   },
   "file_extension": ".py",
   "mimetype": "text/x-python",
   "name": "python",
   "nbconvert_exporter": "python",
   "pygments_lexer": "ipython3",
   "version": "3.6.5"
  }
 },
 "nbformat": 4,
 "nbformat_minor": 2
}
